{
  "nbformat": 4,
  "nbformat_minor": 0,
  "metadata": {
    "colab": {
      "name": "finbert-fa.ipynb",
      "provenance": [],
      "collapsed_sections": []
    },
    "kernelspec": {
      "name": "python3",
      "display_name": "Python 3"
    },
    "language_info": {
      "name": "python"
    },
    "accelerator": "GPU"
  },
  "cells": [
    {
      "cell_type": "code",
      "source": [
        "!pip install transformers\n",
        "!pip install googletrans==3.1.0a0"
      ],
      "metadata": {
        "id": "efS7J-_K2wDv"
      },
      "execution_count": null,
      "outputs": []
    },
    {
      "cell_type": "code",
      "source": [
        "from transformers import AutoTokenizer, AutoModelForSequenceClassification\n",
        "import torch.nn.functional as F\n",
        "import torch\n",
        "from googletrans import Translator"
      ],
      "metadata": {
        "id": "I7hr1YiJPiXk"
      },
      "execution_count": 2,
      "outputs": []
    },
    {
      "cell_type": "code",
      "source": [
        "def sentiment(text):\n",
        "  translator = Translator()\n",
        "  txt = translator.translate(text, dest='en').text\n",
        "\n",
        "  model_name = 'mrm8488/distilroberta-finetuned-financial-news-sentiment-analysis'\n",
        "  model = AutoModelForSequenceClassification.from_pretrained(model_name)\n",
        "  tokenizer = AutoTokenizer.from_pretrained(model_name)\n",
        "  tokens = tokenizer.encode_plus(txt, max_length=512,\n",
        "                                truncation=True, padding='max_length',\n",
        "                                add_special_tokens=True,\n",
        "                                return_tensors='pt')\n",
        "  output = model(**tokens)[0]\n",
        "  prob = F.softmax(output, dim=-1)\n",
        "  list_prob = prob.tolist()[0]\n",
        "  \n",
        "  print(f'might be:\\n\\tnegetive {round(list_prob[0]*100)}%\\n\\tneutral {round(list_prob[1]*100)}%\\n\\tpositive {round(list_prob[2]*100)}%')"
      ],
      "metadata": {
        "id": "P2QGP9l3Q2Yw"
      },
      "execution_count": 3,
      "outputs": []
    },
    {
      "cell_type": "code",
      "source": [
        "text = \"نرخ تورم در ایران در سال گذشته بیش از ۴۰درصد اعلام شد که رقمی کم‌سابقه بود.\"\n",
        "sentiment(text)"
      ],
      "metadata": {
        "colab": {
          "base_uri": "https://localhost:8080/"
        },
        "id": "UCJeYNW0RwrD",
        "outputId": "8f6c1be4-404c-40d7-8361-5447cdf8589f"
      },
      "execution_count": 4,
      "outputs": [
        {
          "output_type": "stream",
          "name": "stdout",
          "text": [
            "might be:\n",
            "\tnegetive 100%\n",
            "\tneutral 0%\n",
            "\tpositive 0%\n"
          ]
        }
      ]
    },
    {
      "cell_type": "code",
      "source": [
        "text = 'پس از افزایش قیمت‌ها، فیلمی از سخنان احسان خاندوزی، وزیر اقتصاد دولت رئیسی، منتشر شده که پیش از انتخابات ریاست جمهوری گفته بود: «اگر دولت آینده هیچ اقدامی انجام ندهد تورم در سال ۱۴۰۰ و ۱۴۰۱ تورم ۱۵ درصد کاهش خواهد یافت.»'\n",
        "sentiment(text)"
      ],
      "metadata": {
        "colab": {
          "base_uri": "https://localhost:8080/"
        },
        "id": "8zIwq5tgrru7",
        "outputId": "55fb9fe2-9812-495e-e17d-a98212b12afe"
      },
      "execution_count": 5,
      "outputs": [
        {
          "output_type": "stream",
          "name": "stdout",
          "text": [
            "might be:\n",
            "\tnegetive 16%\n",
            "\tneutral 2%\n",
            "\tpositive 82%\n"
          ]
        }
      ]
    },
    {
      "cell_type": "code",
      "source": [
        "text = \"همزمان با انتقاد تعدادی از نمایندگان مجلس شورای اسلامی و رسانه‌ها از «سونامی» و افزایش «سرسام آور» قیمت‌ها، محمدباقر قالیباف رییس مجلس از «دستگاه‌های مربوطه» خواست به وظیفه خود در کنترل قیمت‌ها عمل کنند.\"\n",
        "sentiment(text)"
      ],
      "metadata": {
        "colab": {
          "base_uri": "https://localhost:8080/"
        },
        "id": "WAnVRHl068nd",
        "outputId": "ce9033dd-d197-40d5-bb7f-72340f9c05d2"
      },
      "execution_count": 6,
      "outputs": [
        {
          "output_type": "stream",
          "name": "stdout",
          "text": [
            "might be:\n",
            "\tnegetive 67%\n",
            "\tneutral 32%\n",
            "\tpositive 1%\n"
          ]
        }
      ]
    }
  ]
}